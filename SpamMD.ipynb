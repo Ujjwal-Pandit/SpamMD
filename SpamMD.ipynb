{
 "cells": [
  {
   "cell_type": "markdown",
   "id": "9cdba905",
   "metadata": {},
   "source": [
    "# Email Spam Detection using Artificial Intelligence and Machine Learning\n",
    "\n"
   ]
  },
  {
   "cell_type": "markdown",
   "id": "c98ac0ea",
   "metadata": {},
   "source": [
    "Contributers:\n",
    "-------------------\n",
    "\n",
    "Andrew Champagne    \n",
    "Leah Strecker      \n",
    "Suman Bhandari       \n",
    "Ujjwal Pandit"
   ]
  },
  {
   "cell_type": "markdown",
   "id": "ce4e4830",
   "metadata": {},
   "source": [
    "In this project we will utilize Python to create a spam email detection system.\n",
    "Our objective is to ___________\n",
    "\n",
    "We will follow the standard data science protocol from data acquisition, preprocessing, feature extraction, model training, evaluation and making predictions.\n"
   ]
  },
  {
   "cell_type": "markdown",
   "id": "eb7b7eb0",
   "metadata": {},
   "source": [
    "#### Lets get started!"
   ]
  },
  {
   "cell_type": "code",
   "execution_count": 3,
   "id": "d1c8eb20",
   "metadata": {},
   "outputs": [],
   "source": [
    "# Importing necessary libraries over here\n",
    "\n",
    "# Pandas for data manipulation\n",
    "import pandas as pd\n",
    "import numpy as np\n",
    "\n",
    "# NLTK for text preprocessing tasks like tokenization and stop word removal\n",
    "\n",
    "\n",
    "# Scikit-learn for machine learning algorithms"
   ]
  },
  {
   "cell_type": "code",
   "execution_count": 4,
   "id": "4d946352",
   "metadata": {},
   "outputs": [],
   "source": [
    "# Read the dataset\n",
    "df = pd.read_csv('mail_data.csv')"
   ]
  }
 ],
 "metadata": {
  "kernelspec": {
   "display_name": "Python 3 (ipykernel)",
   "language": "python",
   "name": "python3"
  },
  "language_info": {
   "codemirror_mode": {
    "name": "ipython",
    "version": 3
   },
   "file_extension": ".py",
   "mimetype": "text/x-python",
   "name": "python",
   "nbconvert_exporter": "python",
   "pygments_lexer": "ipython3",
   "version": "3.11.4"
  }
 },
 "nbformat": 4,
 "nbformat_minor": 5
}
